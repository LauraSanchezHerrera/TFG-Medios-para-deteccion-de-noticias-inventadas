{
 "cells": [
  {
   "cell_type": "markdown",
   "id": "modern-politics",
   "metadata": {},
   "source": [
    "Librería con los métodos que se encargan de calcular la **distancia de compresión normalizada (NCD) entre dos noticias** y obtener la **cantidad de información que ha extraído una noticia de la otra**."
   ]
  },
  {
   "cell_type": "markdown",
   "id": "interior-hobby",
   "metadata": {},
   "source": [
    "Métodos para el **cálculo de la NCD**:"
   ]
  },
  {
   "cell_type": "code",
   "execution_count": 2,
   "id": "engaged-supplier",
   "metadata": {},
   "outputs": [],
   "source": [
    "# Librerias necesarias\n",
    "import gzip\n",
    "import os\n",
    "import sys"
   ]
  },
  {
   "cell_type": "markdown",
   "id": "eligible-original",
   "metadata": {},
   "source": [
    "Cuando se calcula la **NCD entre dos noticias**, debido a que el compresor **GZIP no es del todo simétrico**, es necesario calcular la **NCD(noticia1, noticia2)** y **NCD(noticia2, noticia1)** ya que **no es una opración completamente simétrica**:\n",
    "\n",
    "**NCD(noticia1, noticia2) = ( C(noticia1noticia2) - C(noticia1) ) / C(noticia2)**  -> La noticia2 ha derivado de la noticia1\n",
    "\n",
    "**NCD(noticia2, noticia1) = ( C(noticia2noticia1) - C(noticia2) ) / C(noticia1)**  -> La noticia1 ha derivado de la noticia2\n",
    "\n",
    "Si la NCD(noticia1, noticia2) es menor, entonces la noticia2 ha derivado de la noticia1. Por el contrario, la noticia1 ha dereivado de la noticia2.\n",
    "\n",
    "**C(fichero) = longitud (len) del contenido del fichero comprimido.**"
   ]
  },
  {
   "cell_type": "markdown",
   "id": "earlier-horse",
   "metadata": {},
   "source": [
    "Métodos para leer y escribir un fichero:"
   ]
  },
  {
   "cell_type": "code",
   "execution_count": 3,
   "id": "entitled-masters",
   "metadata": {},
   "outputs": [],
   "source": [
    "# Lee el contenido de un fichero y lo devuelve\n",
    "def read_file(filename):\n",
    "    try:\n",
    "        f = open(filename, \"rb\")\n",
    "    except IOError as e:\n",
    "        print(e.errno, e.message)\n",
    "    else:\n",
    "        data = f.read()\n",
    "        f.close()\n",
    "        return data\n",
    "\n",
    "# Escribe el contenido en bytes en un fichero\n",
    "def write_file(filename, data):\n",
    "    try:\n",
    "        f = open(filename, \"wb\")\n",
    "    except IOError as e:\n",
    "        print(e.errno, e.message)\n",
    "    else:\n",
    "        f.write(data)\n",
    "        f.close()\n",
    "\n",
    "# Escribe el contenido en un fichero        \n",
    "def write_file_str(filename, data):\n",
    "    try:\n",
    "        f = open(filename, \"w\", encoding='utf-8')\n",
    "    except IOError as e:\n",
    "        print(e.errno, e.message)\n",
    "    else:\n",
    "        f.write(data)\n",
    "        f.close()"
   ]
  },
  {
   "cell_type": "markdown",
   "id": "ordered-universal",
   "metadata": {},
   "source": [
    "Métodos para comprimir/descomprimir con GZIP:"
   ]
  },
  {
   "cell_type": "code",
   "execution_count": 4,
   "id": "molecular-librarian",
   "metadata": {},
   "outputs": [],
   "source": [
    "# Comprime el fichero con GZIP\n",
    "def compress(filename):\n",
    "    data = read_file(filename)\n",
    "    \n",
    "    if data is not None:\n",
    "        f = gzip.open(filename + \".gz\", \"wb\")\n",
    "        f.write(data)\n",
    "        f.close()\n",
    "\n",
    "# Descomprime el fichero con GZIP\n",
    "def decompress(filename):\n",
    "    f = gzip.open(filename)\n",
    "    write_file(filename[:filename.rfind(\".gz\")], f.read())\n",
    "    f.close()"
   ]
  },
  {
   "cell_type": "markdown",
   "id": "seeing-prison",
   "metadata": {},
   "source": [
    "**Función** que a partir de **dos ficheros de texto de noticias** me devuelve **[NCD12, NCD21]**:"
   ]
  },
  {
   "cell_type": "code",
   "execution_count": 6,
   "id": "soviet-headset",
   "metadata": {},
   "outputs": [],
   "source": [
    "# Calcula la NCD en los dos sentidos a partir de dos ficheros con los contenidos de las noticias\n",
    "def NCD(filename_1, filename_2):\n",
    "    filename_12 = \"noticia_12.txt\" # Fichero para concatenar la noticia1 y la noticia2, en este orden\n",
    "    filename_21 = \"noticia_21.txt\" # Fichero para concatenar la noticia2 y la noticia1, en este orden\n",
    "\n",
    "    # Se concatenan los contenidos de ambos ficheros\n",
    "    write_file(filename_12, read_file(filename_1) + read_file(filename_2)) # Primero el contenido de la noticia1 \n",
    "    write_file(filename_21, read_file(filename_2) + read_file(filename_1)) # Primero el contenido de la noticia2 \n",
    "    \n",
    "    # Se comprimen todos los ficheros con GZIP\n",
    "    compress(filename_1) # Fichero con el contenido de la noticia1\n",
    "    compress(filename_2) # Fichero con el contenido de la noticia2\n",
    "    compress(filename_12) # Fichero con el contenido de la noticia1 concatenado con la noticia2\n",
    "    compress(filename_21) # Fichero con el contenido de la noticia2 concatenado con la noticia 1\n",
    "\n",
    "    # Nombres de los ficheros comprimidos generados\n",
    "    filename_1_compress = filename_1 + \".gz\"\n",
    "    filename_2_compress = filename_2 + \".gz\"\n",
    "    filename_12_compress = filename_12 + \".gz\"\n",
    "    filename_21_compress = filename_21 + \".gz\"\n",
    "    \n",
    "    # Calculo de la NCD en ambos sentidos siguiendo la formula\n",
    "    NCD12 = ( len(read_file(filename_12_compress)) - len(read_file(filename_1_compress)) ) / len(read_file(filename_2_compress))\n",
    "    NCD21 = ( len(read_file(filename_21_compress)) - len(read_file(filename_2_compress)) ) / len(read_file(filename_1_compress))\n",
    "    \n",
    "    # Se devuelve un array con ambas NCD\n",
    "    return [NCD12,NCD21]"
   ]
  },
  {
   "cell_type": "markdown",
   "id": "forced-efficiency",
   "metadata": {},
   "source": [
    "Método para obtener la **cantidad de información**:"
   ]
  },
  {
   "cell_type": "markdown",
   "id": "occupational-failing",
   "metadata": {},
   "source": [
    "**¿Cómo se calcula?**\n",
    "\n",
    "Si C(noticia2|noticia1) es la **información que hay en la noticia2 que no tiene nada que ver con la noticia 1**:\n",
    "\n",
    "   **C(noticia2|noticia1) = C(noticia1noticia2) - C(noticia1)**\n",
    "   \n",
    "Entonces si a C(noticia2) le quitamos C(noticia2|noticia1) obtenemos **la cantidad de información que hay en la noticia2 que proviene de la noticia 1**:\n",
    "\n",
    "   **cantidad_info_n1_en_n2 = C(noticia2) - C(noticia2|noticia1)**\n",
    "    \n",
    "Es decir, nos queda:\n",
    "\n",
    "   **cantidad_info_n1_en_n2 = C(noticia2) - C(noticia1noticia2) + C(noticia1)**"
   ]
  },
  {
   "cell_type": "markdown",
   "id": "genetic-parcel",
   "metadata": {},
   "source": [
    "Función que a partir de dos ficheros, con el contenido de las noticias, me **devuelve la cantidad de información que se ha \n",
    "cogido de la primera noticia (filename_1) para añadirla en la segunda noticia (filename_2).**"
   ]
  },
  {
   "cell_type": "code",
   "execution_count": 7,
   "id": "utility-gilbert",
   "metadata": {},
   "outputs": [],
   "source": [
    "# Metodo que devuelve la cantidad de información que ha cogido la noticia2 de la noticia1\n",
    "def cantidad_info_n1_en_n2(filename_1, filename_2):\n",
    "    filename_12 = \"noticia_12.txt\" # Fichero para concatenar la noticia1 con la 2, en este orden\n",
    "\n",
    "    write_file(filename_12, read_file(filename_1) + read_file(filename_2)) # Escribe en un fichero la concatenacion de 1 con 2\n",
    "    \n",
    "    # Comprimo los ficheros\n",
    "    compress(filename_1) # Comprimo el fichero con el contenido de la noticia1\n",
    "    compress(filename_2) # Comprimo el fichero con el contenido de la noticia2\n",
    "    compress(filename_12) # Comprimo el fichero con el contenido de la noticia1 concatenada con 2\n",
    "\n",
    "    # Nombre de los ficheros comprimidos generados\n",
    "    filename_1_compress = filename_1 + \".gz\"\n",
    "    filename_2_compress = filename_2 + \".gz\"\n",
    "    filename_12_compress = filename_12 + \".gz\"\n",
    "    \n",
    "    # Calculo la cantidad de informacion siguiendo la formula\n",
    "    cant = len(read_file(filename_2_compress)) - len(read_file(filename_12_compress)) + len(read_file(filename_1_compress))\n",
    "    \n",
    "    return cant"
   ]
  }
 ],
 "metadata": {
  "kernelspec": {
   "display_name": "Python 3",
   "language": "python",
   "name": "python3"
  },
  "language_info": {
   "codemirror_mode": {
    "name": "ipython",
    "version": 3
   },
   "file_extension": ".py",
   "mimetype": "text/x-python",
   "name": "python",
   "nbconvert_exporter": "python",
   "pygments_lexer": "ipython3",
   "version": "3.9.1"
  }
 },
 "nbformat": 4,
 "nbformat_minor": 5
}
